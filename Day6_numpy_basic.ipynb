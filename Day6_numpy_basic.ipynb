{
 "cells": [
  {
   "cell_type": "markdown",
   "id": "d477cdd1-48d4-41e8-a6d5-12d6f337dfd0",
   "metadata": {},
   "source": [
    "# NumPy Basics\n",
    "Welcome to Day 6! Today we explore NumPy fundamentals."
   ]
  },
  {
   "cell_type": "code",
   "execution_count": 2,
   "id": "430d4094-1192-4f61-a1d2-e897768848f2",
   "metadata": {},
   "outputs": [
    {
     "name": "stdout",
     "output_type": "stream",
     "text": [
      "Shape: (2, 3)\n",
      "Mean: 3.5\n"
     ]
    }
   ],
   "source": [
    "import numpy as np\n",
    "\n",
    "arr = np.array([[1, 2, 3], [4, 5, 6]])\n",
    "print(\"Shape:\", arr.shape)\n",
    "print(\"Mean:\", arr.mean())"
   ]
  },
  {
   "cell_type": "code",
   "execution_count": 3,
   "id": "1b38fefb-0924-432b-b6cc-270895fe3f25",
   "metadata": {},
   "outputs": [
    {
     "name": "stdout",
     "output_type": "stream",
     "text": [
      "Shape: (2, 5)\n",
      "Mean: 11.0\n"
     ]
    }
   ],
   "source": [
    "array2 = np.array([[2, 4, 6, 8, 10], [12, 14, 16, 18, 20]])\n",
    "print(\"Shape:\", array2.shape)\n",
    "print(\"Mean:\", array2.mean())"
   ]
  },
  {
   "cell_type": "markdown",
   "id": "f0a4bb77-e1fa-4c73-ba7f-28263e7622f4",
   "metadata": {},
   "source": [
    "# let's Try Something Different "
   ]
  },
  {
   "cell_type": "code",
   "execution_count": 4,
   "id": "196c9679-2d9f-40b0-8157-1ef5f3de0fdc",
   "metadata": {},
   "outputs": [
    {
     "name": "stdout",
     "output_type": "stream",
     "text": [
      "Shape: (2, 3)\n"
     ]
    }
   ],
   "source": [
    "Avengers = np.array([[\"Aron\", \"Thor\", \"Hulk\"], [\"Black Widow\", \"Captain America\", \"ironman\"]])\n",
    "print(\"Shape:\", Avengers.shape)\n",
    "# Removed the mean calculation as it is not valid for string arrays"
   ]
  },
  {
   "cell_type": "markdown",
   "id": "38c2d5e5-d975-4f18-be2d-f20223778097",
   "metadata": {},
   "source": [
    "# WHAT I UNDERSTOOD ?\n",
    "We can not find the Mean of \"Strings\" nor We can find there \"Mode\", \"Median\" !\n",
    "\n",
    "Conclusion : \"Strings\" are those which we cant find \"Mean\", \"Median\", \"Mode\". "
   ]
  },
  {
   "cell_type": "code",
   "execution_count": null,
   "id": "4cc4f05c-6cd7-4078-a49d-84927b1133ef",
   "metadata": {},
   "outputs": [],
   "source": []
  }
 ],
 "metadata": {
  "kernelspec": {
   "display_name": "Python 3 (ipykernel)",
   "language": "python",
   "name": "python3"
  },
  "language_info": {
   "codemirror_mode": {
    "name": "ipython",
    "version": 3
   },
   "file_extension": ".py",
   "mimetype": "text/x-python",
   "name": "python",
   "nbconvert_exporter": "python",
   "pygments_lexer": "ipython3",
   "version": "3.12.7"
  }
 },
 "nbformat": 4,
 "nbformat_minor": 5
}
